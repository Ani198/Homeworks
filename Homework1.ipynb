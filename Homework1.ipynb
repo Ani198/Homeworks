{
 "cells": [
  {
   "cell_type": "code",
   "execution_count": 6,
   "metadata": {},
   "outputs": [
    {
     "name": "stdout",
     "output_type": "stream",
     "text": [
      "False\n",
      "True\n",
      "True\n",
      "False\n"
     ]
    }
   ],
   "source": [
    "#Exercise 1 Variables\n",
    "project=\"cake\"\n",
    "difficulty=3\n",
    "ingredients=[\"flour\", \"butter\", \"sugar\", \"eggs\", \"cocoa powder\", \"baking powder\"]\n",
    "print(\"apples\" in ingredients)\n",
    "print(\"butter\" in ingredients)\n",
    "print((\"eggs\" in ingredients) or (\"margarine\" in ingredients))\n",
    "print((\"eggs\" in ingredients) and (\"margarine\" in ingredients))"
   ]
  },
  {
   "cell_type": "code",
   "execution_count": 10,
   "metadata": {},
   "outputs": [
    {
     "name": "stdout",
     "output_type": "stream",
     "text": [
      "<class 'int'>\n",
      "<class 'int'>\n",
      "<class 'int'>\n",
      "<class 'int'>\n",
      "<class 'int'>\n",
      "<class 'float'>\n"
     ]
    }
   ],
   "source": [
    "#8\n",
    "flour=175\n",
    "butter=175\n",
    "sugar=100\n",
    "eggs=2\n",
    "cocoa_powder=1\n",
    "baking_powder=0.5\n",
    "#8a\n",
    "print(type(flour))\n",
    "print(type(butter))\n",
    "print(type(sugar))\n",
    "print(type(eggs))\n",
    "print(type(cocoa_powder))\n",
    "print(type(baking_powder))"
   ]
  },
  {
   "cell_type": "code",
   "execution_count": 21,
   "metadata": {},
   "outputs": [
    {
     "name": "stdout",
     "output_type": "stream",
     "text": [
      "flour - 175 g\n",
      "butter - 175 g\n",
      "sugar - 100 g\n",
      "eggs - 2\n",
      "cocoa powder - 1 ts\n",
      "baking powder - 0.5 ts\n"
     ]
    }
   ],
   "source": [
    "#9\n",
    "print(\"flour -\",flour,\"g\")\n",
    "print(\"butter -\",butter,\"g\")\n",
    "print(\"sugar -\",sugar,\"g\")\n",
    "print(\"eggs -\",eggs)\n",
    "print(\"cocoa powder -\",cocoa_powder,\"ts\")\n",
    "print(\"baking powder -\",baking_powder,\"ts\")"
   ]
  },
  {
   "cell_type": "code",
   "execution_count": 24,
   "metadata": {},
   "outputs": [
    {
     "name": "stdout",
     "output_type": "stream",
     "text": [
      "1003.0\n",
      "852\n"
     ]
    }
   ],
   "source": [
    "#Exercise 2 Operators\n",
    "a=15\n",
    "b=8\n",
    "c=2\n",
    "answer=5*(a**2)-a*b+(a%2)-a/5\n",
    "print(answer)\n",
    "answer1=b**3+3*a*b-10*c\n",
    "print(answer1)"
   ]
  },
  {
   "cell_type": "code",
   "execution_count": 61,
   "metadata": {},
   "outputs": [
    {
     "name": "stdout",
     "output_type": "stream",
     "text": [
      "1998-03-26\n",
      "Year: 1998\n",
      "Month: 3\n",
      "Day: 26\n",
      "Weekday: 4\n",
      "Days until my next birthday: 131 days, 0:00:00\n",
      "      May 2017\n",
      "Mo Tu We Th Fr Sa Su\n",
      " 1  2  3  4  5  6  7\n",
      " 8  9 10 11 12 13 14\n",
      "15 16 17 18 19 20 21\n",
      "22 23 24 25 26 27 28\n",
      "29 30 31\n",
      "\n"
     ]
    }
   ],
   "source": [
    "#Date and Time\n",
    "#1\n",
    "import datetime\n",
    "import time\n",
    "import calendar\n",
    "#2\n",
    "Bday=datetime.date(1998, 3, 26)\n",
    "print(Bday)\n",
    "print(\"Year:\",Bday.year)\n",
    "print(\"Month:\",Bday.month)\n",
    "print(\"Day:\",Bday.day)\n",
    "print(\"Weekday:\",Bday.isoweekday())\n",
    "#print(calendar.month(1998, 3))\n",
    "tday=datetime.date.today()\n",
    "Bday1=datetime.date(2019, 3, 26)\n",
    "print(\"Days until my next birthday:\",Bday1-tday)\n",
    "#3\n",
    "print(calendar.month(2017, 5))"
   ]
  },
  {
   "cell_type": "code",
   "execution_count": 64,
   "metadata": {},
   "outputs": [
    {
     "name": "stdout",
     "output_type": "stream",
     "text": [
      "Yesterday: 2018-11-14 20:46:48.825418\n",
      "Yesterday + 2 days: 2018-11-16 20:46:48.825418\n",
      "Yesterday - 3 days: 2018-11-11 20:46:48.825418\n"
     ]
    }
   ],
   "source": [
    "#4\n",
    "tday=datetime.datetime.today()\n",
    "tdelta=datetime.timedelta(hours=24)\n",
    "yesterday=tday-tdelta\n",
    "print(\"Yesterday:\",yesterday)\n",
    "tdelta=datetime.timedelta(days=2)\n",
    "print(\"Yesterday + 2 days:\",yesterday+tdelta)\n",
    "tdelta=datetime.timedelta(days=3)\n",
    "print(\"Yesterday - 3 days:\", yesterday-tdelta)"
   ]
  },
  {
   "cell_type": "code",
   "execution_count": 79,
   "metadata": {},
   "outputs": [
    {
     "name": "stdout",
     "output_type": "stream",
     "text": [
      "3 - odd\n",
      "5 - odd\n",
      "6 - even\n",
      "8 - even\n"
     ]
    }
   ],
   "source": [
    "d = [3, 5, 6, 8]\n",
    "for i in d:\n",
    "    if(i%2==0):\n",
    "        print(i, \"- even\")\n",
    "    else:\n",
    "        print(i, \"- odd\")\n",
    "       "
   ]
  }
 ],
 "metadata": {
  "kernelspec": {
   "display_name": "Python 3",
   "language": "python",
   "name": "python3"
  },
  "language_info": {
   "codemirror_mode": {
    "name": "ipython",
    "version": 3
   },
   "file_extension": ".py",
   "mimetype": "text/x-python",
   "name": "python",
   "nbconvert_exporter": "python",
   "pygments_lexer": "ipython3",
   "version": "3.7.0"
  }
 },
 "nbformat": 4,
 "nbformat_minor": 2
}
