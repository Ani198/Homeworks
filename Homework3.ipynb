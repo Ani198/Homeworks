{
 "cells": [
  {
   "cell_type": "markdown",
   "metadata": {},
   "source": [
    "1. Ստեղծեք ​Person​​ class-ը։ \n",
    " Attributes:​​ name, last_name, age, gender, student (this is a boolean attribute i.e. True/False) Methods:  Greeting(self, second_person) -> Ստանում է Person տեսակի second_person օբյեկտը որպես input, տպում է  “Welcome dear X.”  Որտեղ X-ը second_person instance-ի name attribute-ն է։ \n",
    " \n",
    "Goodbye(self) -> տպում է “Bye everyone!” \n",
    " \n",
    "Favourite_num(self, num1) -> Ստանում է integer տեսակի num1-ը որպես input և վերադարձնում է “My favourite number is X. Որտեղ X = num1.\n",
    "\n",
    "Optional:  Ավելացրեք decorator, որը կստուգի թե ինչքան ժամանակ է խլում Greeting method-ն աշխատացնելը։ "
   ]
  },
  {
   "cell_type": "code",
   "execution_count": 10,
   "metadata": {},
   "outputs": [
    {
     "name": "stdout",
     "output_type": "stream",
     "text": [
      "1544284480.986559\n",
      "Welcome dear N2\n",
      "1544284480.986559\n",
      "greeting took 0.0mil sec\n",
      "My favorite number is 5\n",
      "Bye everyone!\n"
     ]
    }
   ],
   "source": [
    "import time\n",
    "\n",
    "def dec(func):\n",
    "    def wrapper(*args, **kwargs):\n",
    "        start = time.time()\n",
    "        print(start)\n",
    "        func(*args,**kwargs)\n",
    "        end = time.time()\n",
    "        print(end)\n",
    "        print(func.__name__ +\" took \" + str((end-start)*1000) + \"mil sec\")\n",
    "    return wrapper\n",
    "\n",
    "class Person:\n",
    "    def __init__(self, name, last_name, age, gender, student: bool):\n",
    "        self.name=name\n",
    "        self.Lname=last_name\n",
    "        self.age=age\n",
    "        self.gender=gender\n",
    "        self.student=student\n",
    "    \n",
    "    @dec\n",
    "    def greeting(self, pers2):\n",
    "        print(\"Welcome dear %s\" %pers2.name)\n",
    "    \n",
    "    def goodbye(self):\n",
    "        print(\"Bye everyone!\")\n",
    "    \n",
    "    def Favorite_num(self, num):\n",
    "        print(\"My favorite number is %d\" %num)\n",
    "    \n",
    "p1=Person(\"N1\", \"L1\", 20, \"F\", True)\n",
    "p2=Person(\"N2\", \"L2\", 30, \"M\", False)\n",
    "p1.greeting(p2)\n",
    "p1.Favorite_num(5)\n",
    "p2.goodbye()"
   ]
  },
  {
   "cell_type": "markdown",
   "metadata": {},
   "source": [
    "2. Ստեղծեք Calculation class-ը: Attributes:​​ x, y Methods:​​  __init__(self, x, y) -> ստեղծում է x ու y attribute-ները addition(self) -> տպում է x ու y արգումենտների արժեքների գումարը subtraction(self) -> տպում է x ու y արգումենտների արժեքների տարբերությունը \n",
    "\n",
    "Ստեղծեք MyCalculation class-ը, որը ժառանգում է Calculation class-ից: Attributes:​​ x, y Methods:​​  __init__(self, x, y) -> կանչում է Calculation class-ի  __init__ method-ը x ու y attribute-ներով  multiplication(self) -> տպում է x ու y արգումենտների արժեքների արտադրյալը division(self) -> տպում է x ու y արգումենտների արժեքների քանորդը \n",
    " \n",
    "Ստեղծեք MyCalculation class-ի object 3 ու 5 attribute-ների արժեքներով ու կանչեք իր վրա addition, subtraction, multiplication ու division method-ները: "
   ]
  },
  {
   "cell_type": "code",
   "execution_count": 1,
   "metadata": {},
   "outputs": [
    {
     "name": "stdout",
     "output_type": "stream",
     "text": [
      "8\n",
      "-2\n",
      "15\n",
      "0.6\n"
     ]
    }
   ],
   "source": [
    "class Calculation:\n",
    "    def __init__(self, x, y):\n",
    "        self.x=x\n",
    "        self.y=y\n",
    "        \n",
    "    def addition(self):\n",
    "        print(self.x+self.y)\n",
    "    \n",
    "    def subtraction(self):\n",
    "        print(self.x-self.y)\n",
    "        \n",
    "class MyCalculation(Calculation):\n",
    "    def __init__(self, x, y):\n",
    "        super().__init__(x, y)\n",
    "    \n",
    "    def multiplication(self):\n",
    "        print(self.x*self.y)\n",
    "    \n",
    "    def division(self):\n",
    "        print(self.x/self.y)\n",
    "        \n",
    "mc = MyCalculation(3, 5)\n",
    "mc.addition()\n",
    "mc.subtraction()\n",
    "mc.multiplication()\n",
    "mc.division()"
   ]
  },
  {
   "cell_type": "markdown",
   "metadata": {},
   "source": [
    "3. Ստեղծեք My_Time class-ը: Attributes:​​ t (str, ցույց է տալիս ժամանակ, օրինակ՝ “10 AM”) Methods:​​  __init__(self, t) -> ստեղծում է t attribute printTime(self) -> տպում է “The current time is X”, X-ի փոխարեն օգտագործելով t attribute-ի արժեքը \n",
    "\n",
    "Ստեղծեք My_Date class-ը: Attributes:​​ d (str, ցույց է տալիս ամսաթիվ, օրինակ՝ “12.02.2018”) Methods:​​  __init__(self, color) -> ստեղծում է d attribute printDate(self) -> տպում է “The current date is Y”, Y-ի փոխարեն օգտագործելով d attribute-ի արժեքը\n",
    "\n",
    "Ստեղծեք Date_Time class-ը, որը ժառանգում է My_Date ու My_Time class-ներից: Attributes:​​ d, t Methods:​​  __init__(self, d, t) -> կանչում է My_Date class-ի  __init__ method-ը d attribute-ով ու My_Time class-ի  __init__ method-ը t attribute-ով \n",
    " \n",
    "Ստեղծեք Date-Time class-ի object “12 PM” ու “13.03.2013” attribute-ների արժեքներով ու կանչեք իր վրա printTime ու printDate method-ները:"
   ]
  },
  {
   "cell_type": "code",
   "execution_count": 16,
   "metadata": {},
   "outputs": [
    {
     "name": "stdout",
     "output_type": "stream",
     "text": [
      "The current time is 12 PM\n",
      "The current date is 13.03.2013\n"
     ]
    }
   ],
   "source": [
    "class My_Time:\n",
    "    def __init__(self, t: str):\n",
    "        self.t=t\n",
    "    def printTime(self):\n",
    "        print(\"The current time is %s\" %self.t)\n",
    "        \n",
    "class My_Date:\n",
    "    def __init__(self, d: \"date\"):\n",
    "        self.d=d\n",
    "        \n",
    "    def printDate(self):\n",
    "        print(\"The current date is %s\" %self.d)\n",
    "        \n",
    "class Date_Time(My_Time, My_Date):\n",
    "    def __init__(self, t, d):\n",
    "        My_Time.__init__(self, t)\n",
    "        My_Date.__init__(self, d)\n",
    "        \n",
    "dt = Date_Time(\"12 PM\", \"13.03.2013\")\n",
    "dt.printTime()\n",
    "dt.printDate()"
   ]
  }
 ],
 "metadata": {
  "kernelspec": {
   "display_name": "Python 3",
   "language": "python",
   "name": "python3"
  },
  "language_info": {
   "codemirror_mode": {
    "name": "ipython",
    "version": 3
   },
   "file_extension": ".py",
   "mimetype": "text/x-python",
   "name": "python",
   "nbconvert_exporter": "python",
   "pygments_lexer": "ipython3",
   "version": "3.7.0"
  }
 },
 "nbformat": 4,
 "nbformat_minor": 2
}
